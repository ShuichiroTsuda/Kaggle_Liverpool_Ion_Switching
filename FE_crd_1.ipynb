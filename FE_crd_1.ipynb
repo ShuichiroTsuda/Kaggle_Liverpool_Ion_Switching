{
  "nbformat": 4,
  "nbformat_minor": 0,
  "metadata": {
    "colab": {
      "name": "FE_crd_1.ipynb",
      "provenance": [],
      "collapsed_sections": [],
      "toc_visible": true,
      "mount_file_id": "1D5p4Xj6Dz36oJrqEHxkWJfQDgxXYEf3n",
      "authorship_tag": "ABX9TyO9Fu+oAU5t5qC2bneHDNOF",
      "include_colab_link": true
    },
    "kernelspec": {
      "name": "python3",
      "display_name": "Python 3"
    }
  },
  "cells": [
    {
      "cell_type": "markdown",
      "metadata": {
        "id": "view-in-github",
        "colab_type": "text"
      },
      "source": [
        "<a href=\"https://colab.research.google.com/github/ShuichiroTsuda/Kaggle_Liverpool_Ion_Switching/blob/master/FE_crd_1.ipynb\" target=\"_parent\"><img src=\"https://colab.research.google.com/assets/colab-badge.svg\" alt=\"Open In Colab\"/></a>"
      ]
    },
    {
      "cell_type": "code",
      "metadata": {
        "id": "OPioKzjo7_pE",
        "colab_type": "code",
        "colab": {}
      },
      "source": [
        "import json\n",
        "import os\n",
        "\n",
        "def load_api_key():\n",
        "    with open('/content/drive/My Drive/Colab Notebooks/Kaggle/API_setup/kaggle.json') as f:\n",
        "        kaggle_api_key = json.load(f)\n",
        "    \n",
        "    filename = \"/root/.kaggle/kaggle.json\"\n",
        "    os.makedirs(os.path.dirname(filename), exist_ok=True)\n",
        "\n",
        "    with open(filename, 'w') as f:\n",
        "        json.dump(kaggle_api_key, f)\n",
        "\n",
        "    os.chmod(filename, 600)\n",
        "    print('API key loaded.')\n"
      ],
      "execution_count": 0,
      "outputs": []
    },
    {
      "cell_type": "code",
      "metadata": {
        "id": "v082dGT3qQnd",
        "colab_type": "code",
        "colab": {
          "base_uri": "https://localhost:8080/",
          "height": 35
        },
        "outputId": "a7ba25a4-c911-4eb6-d4e6-33278a8ef780"
      },
      "source": [
        "load_api_key()"
      ],
      "execution_count": 3,
      "outputs": [
        {
          "output_type": "stream",
          "text": [
            "API key loaded.\n"
          ],
          "name": "stdout"
        }
      ]
    },
    {
      "cell_type": "code",
      "metadata": {
        "id": "uk2GslvPqYPv",
        "colab_type": "code",
        "colab": {
          "base_uri": "https://localhost:8080/",
          "height": 70
        },
        "outputId": "0d1db48f-9691-42d4-dc30-4202a2138070"
      },
      "source": [
        "!kaggle datasets download -d cdeotte/data-without-drift\n",
        "!unzip data-without-drift.zip -y"
      ],
      "execution_count": 4,
      "outputs": [
        {
          "output_type": "stream",
          "text": [
            "data-without-drift.zip: Skipping, found more recently modified local copy (use --force to force download)\n",
            "Archive:  data-without-drift.zip\n",
            "caution: filename not matched:  -y\n"
          ],
          "name": "stdout"
        }
      ]
    },
    {
      "cell_type": "code",
      "metadata": {
        "id": "iomPSAo-qc0T",
        "colab_type": "code",
        "colab": {
          "base_uri": "https://localhost:8080/",
          "height": 195
        },
        "outputId": "0937c711-e0d0-49de-d94d-67dd92f51f1e"
      },
      "source": [
        "!kaggle competitions download -c liverpool-ion-switching\n",
        "!unzip sample_submission.csv.zip -y\n",
        "!unzip test.csv.zip -y\n",
        "!unzip train.csv.zip -y"
      ],
      "execution_count": 5,
      "outputs": [
        {
          "output_type": "stream",
          "text": [
            "Warning: Looks like you're using an outdated API Version, please consider updating (server 1.5.6 / client 1.5.4)\n",
            "sample_submission.csv.zip: Skipping, found more recently modified local copy (use --force to force download)\n",
            "test.csv.zip: Skipping, found more recently modified local copy (use --force to force download)\n",
            "train.csv.zip: Skipping, found more recently modified local copy (use --force to force download)\n",
            "Archive:  sample_submission.csv.zip\n",
            "caution: filename not matched:  -y\n",
            "Archive:  test.csv.zip\n",
            "caution: filename not matched:  -y\n",
            "Archive:  train.csv.zip\n",
            "caution: filename not matched:  -y\n"
          ],
          "name": "stdout"
        }
      ]
    },
    {
      "cell_type": "code",
      "metadata": {
        "id": "9qzU-L9ysGuu",
        "colab_type": "code",
        "colab": {}
      },
      "source": [
        "import numpy as np\n",
        "import pandas as pd\n",
        "\n",
        "%matplotlib inline\n",
        "\n",
        "import matplotlib.pyplot as plt\n",
        "import seaborn as sns\n",
        "from scipy import signal\n",
        "from tqdm import tqdm\n",
        "from sklearn.model_selection import train_test_split\n",
        "from sklearn.metrics import confusion_matrix, f1_score, plot_confusion_matrix\n",
        "import lightgbm as lgb\n",
        "import tensorflow.python.keras.layers as L\n",
        "from tensorflow.python.keras.models import Model"
      ],
      "execution_count": 0,
      "outputs": []
    },
    {
      "cell_type": "code",
      "metadata": {
        "id": "-87twhNKJWKM",
        "colab_type": "code",
        "colab": {}
      },
      "source": [
        "def reduce_mem_usage(df, verbose=True):\n",
        "    numerics = ['int16', 'int32', 'int64', 'float16', 'float32', 'float64']\n",
        "    start_mem = df.memory_usage().sum() / 1024**2\n",
        "    for col in df.columns:\n",
        "        if col != 'time':\n",
        "            col_type = df[col].dtypes\n",
        "            if col_type in numerics:\n",
        "                c_min = df[col].min()\n",
        "                c_max = df[col].max()\n",
        "                if str(col_type)[:3] == 'int':\n",
        "                    if c_min > np.iinfo(np.int8).min and c_max < np.iinfo(np.int8).max:\n",
        "                        df[col] = df[col].astype(np.int8)\n",
        "                    elif c_min > np.iinfo(np.int16).min and c_max < np.iinfo(np.int16).max:\n",
        "                        df[col] = df[col].astype(np.int16)\n",
        "                    elif c_min > np.iinfo(np.int32).min and c_max < np.iinfo(np.int32).max:\n",
        "                        df[col] = df[col].astype(np.int32)\n",
        "                    elif c_min > np.iinfo(np.int64).min and c_max < np.iinfo(np.int64).max:\n",
        "                        df[col] = df[col].astype(np.int64)  \n",
        "                else:\n",
        "                    if c_min > np.finfo(np.float16).min and c_max < np.finfo(np.float16).max:\n",
        "                        df[col] = df[col].astype(np.float16)\n",
        "                    elif c_min > np.finfo(np.float32).min and c_max < np.finfo(np.float32).max:\n",
        "                        df[col] = df[col].astype(np.float32)\n",
        "                    else:\n",
        "                        df[col] = df[col].astype(np.float64)    \n",
        "    end_mem = df.memory_usage().sum() / 1024**2\n",
        "    if verbose: print('Mem. usage decreased to {:5.2f} Mb ({:.1f}% reduction)'.format(end_mem, 100 * (start_mem - end_mem) / start_mem))\n",
        "    return df"
      ],
      "execution_count": 0,
      "outputs": []
    },
    {
      "cell_type": "code",
      "metadata": {
        "id": "rDa2_W6ospHp",
        "colab_type": "code",
        "colab": {
          "base_uri": "https://localhost:8080/",
          "height": 229
        },
        "outputId": "87f21afe-82de-4637-9e6b-9f983feb72fe"
      },
      "source": [
        "test = pd.read_csv('test_clean.csv')\n",
        "train = pd.read_csv('train_clean.csv')\n",
        "test = reduce_mem_usage(test)\n",
        "train = reduce_mem_usage(train)\n",
        "train.head()"
      ],
      "execution_count": 10,
      "outputs": [
        {
          "output_type": "stream",
          "text": [
            "Mem. usage decreased to 19.07 Mb (37.5% reduction)\n",
            "Mem. usage decreased to 52.45 Mb (54.2% reduction)\n"
          ],
          "name": "stdout"
        },
        {
          "output_type": "execute_result",
          "data": {
            "text/html": [
              "<div>\n",
              "<style scoped>\n",
              "    .dataframe tbody tr th:only-of-type {\n",
              "        vertical-align: middle;\n",
              "    }\n",
              "\n",
              "    .dataframe tbody tr th {\n",
              "        vertical-align: top;\n",
              "    }\n",
              "\n",
              "    .dataframe thead th {\n",
              "        text-align: right;\n",
              "    }\n",
              "</style>\n",
              "<table border=\"1\" class=\"dataframe\">\n",
              "  <thead>\n",
              "    <tr style=\"text-align: right;\">\n",
              "      <th></th>\n",
              "      <th>time</th>\n",
              "      <th>signal</th>\n",
              "      <th>open_channels</th>\n",
              "    </tr>\n",
              "  </thead>\n",
              "  <tbody>\n",
              "    <tr>\n",
              "      <th>0</th>\n",
              "      <td>0.0001</td>\n",
              "      <td>-2.759766</td>\n",
              "      <td>0</td>\n",
              "    </tr>\n",
              "    <tr>\n",
              "      <th>1</th>\n",
              "      <td>0.0002</td>\n",
              "      <td>-2.855469</td>\n",
              "      <td>0</td>\n",
              "    </tr>\n",
              "    <tr>\n",
              "      <th>2</th>\n",
              "      <td>0.0003</td>\n",
              "      <td>-2.408203</td>\n",
              "      <td>0</td>\n",
              "    </tr>\n",
              "    <tr>\n",
              "      <th>3</th>\n",
              "      <td>0.0004</td>\n",
              "      <td>-3.140625</td>\n",
              "      <td>0</td>\n",
              "    </tr>\n",
              "    <tr>\n",
              "      <th>4</th>\n",
              "      <td>0.0005</td>\n",
              "      <td>-3.152344</td>\n",
              "      <td>0</td>\n",
              "    </tr>\n",
              "  </tbody>\n",
              "</table>\n",
              "</div>"
            ],
            "text/plain": [
              "     time    signal  open_channels\n",
              "0  0.0001 -2.759766              0\n",
              "1  0.0002 -2.855469              0\n",
              "2  0.0003 -2.408203              0\n",
              "3  0.0004 -3.140625              0\n",
              "4  0.0005 -3.152344              0"
            ]
          },
          "metadata": {
            "tags": []
          },
          "execution_count": 10
        }
      ]
    },
    {
      "cell_type": "code",
      "metadata": {
        "id": "IUgZ_5Nks80s",
        "colab_type": "code",
        "colab": {}
      },
      "source": [
        "def calc_gradients(s, n_grads=4):\n",
        "    '''\n",
        "    Calculate gradients for a pandas series. Returns the same number of samples\n",
        "    '''\n",
        "    grads = pd.DataFrame()\n",
        "    \n",
        "    g = s.values\n",
        "    for i in range(n_grads):\n",
        "        g = np.gradient(g)\n",
        "        grads['grad_' + str(i+1)] = g\n",
        "        \n",
        "    return grads"
      ],
      "execution_count": 0,
      "outputs": []
    },
    {
      "cell_type": "code",
      "metadata": {
        "id": "Xxj1sMNzts7b",
        "colab_type": "code",
        "colab": {}
      },
      "source": [
        "def calc_low_pass(s, n_filts=10):\n",
        "    '''\n",
        "    Applies low pass filters to the signal. Left delayed and no delayed\n",
        "    '''\n",
        "    wns = np.logspace(-2, -0.3, n_filts)\n",
        "    \n",
        "    low_pass = pd.DataFrame()\n",
        "    x = s.values\n",
        "    for wn in wns:\n",
        "        b, a = signal.butter(1, Wn=wn, btype='low')\n",
        "        zi = signal.lfilter_zi(b, a)\n",
        "        low_pass['lowpass_lf_' + str('%.4f' %wn)] = signal.lfilter(b, a, x, zi=zi*x[0])[0]\n",
        "        low_pass['lowpass_ff_' + str('%.4f' %wn)] = signal.filtfilt(b, a, x)\n",
        "        \n",
        "    return low_pass"
      ],
      "execution_count": 0,
      "outputs": []
    },
    {
      "cell_type": "code",
      "metadata": {
        "id": "ZvRlqZcctxXe",
        "colab_type": "code",
        "colab": {}
      },
      "source": [
        "def calc_high_pass(s, n_filts=10):\n",
        "    '''\n",
        "    Applies high pass filters to the signal. Left delayed and no delayed\n",
        "    '''\n",
        "    wns = np.logspace(-2, -0.1, n_filts)\n",
        "    \n",
        "    high_pass = pd.DataFrame()\n",
        "    x = s.values\n",
        "    for wn in wns:\n",
        "        b, a = signal.butter(1, Wn=wn, btype='high')\n",
        "        zi = signal.lfilter_zi(b, a)\n",
        "        high_pass['highpass_lf_' + str('%.4f' %wn)] = signal.lfilter(b, a, x, zi=zi*x[0])[0]\n",
        "        high_pass['highpass_ff_' + str('%.4f' %wn)] = signal.filtfilt(b, a, x)\n",
        "        \n",
        "    return high_pass"
      ],
      "execution_count": 0,
      "outputs": []
    },
    {
      "cell_type": "code",
      "metadata": {
        "id": "02FGieNWuGgM",
        "colab_type": "code",
        "colab": {}
      },
      "source": [
        "def calc_roll_stats(s, windows=[10, 50, 100, 500, 1000]):\n",
        "    '''\n",
        "    Calculates rolling stats like mean, std, min, max...\n",
        "    '''\n",
        "    roll_stats = pd.DataFrame()\n",
        "    for w in windows:\n",
        "        roll_stats['roll_mean_' + str(w)] = s.rolling(window=w, min_periods=1).mean()\n",
        "        roll_stats['roll_std_' + str(w)] = s.rolling(window=w, min_periods=1).std()\n",
        "        roll_stats['roll_min_' + str(w)] = s.rolling(window=w, min_periods=1).min()\n",
        "        roll_stats['roll_max_' + str(w)] = s.rolling(window=w, min_periods=1).max()\n",
        "        roll_stats['roll_range_' + str(w)] = roll_stats['roll_max_' + str(w)] - roll_stats['roll_min_' + str(w)]\n",
        "        roll_stats['roll_q10_' + str(w)] = s.rolling(window=w, min_periods=1).quantile(0.10)\n",
        "        roll_stats['roll_q25_' + str(w)] = s.rolling(window=w, min_periods=1).quantile(0.25)\n",
        "        roll_stats['roll_q50_' + str(w)] = s.rolling(window=w, min_periods=1).quantile(0.50)\n",
        "        roll_stats['roll_q75_' + str(w)] = s.rolling(window=w, min_periods=1).quantile(0.75)\n",
        "        roll_stats['roll_q90_' + str(w)] = s.rolling(window=w, min_periods=1).quantile(0.90)\n",
        "    \n",
        "    # add zeros when na values (std)\n",
        "    roll_stats = roll_stats.fillna(value=0)\n",
        "             \n",
        "    return roll_stats"
      ],
      "execution_count": 0,
      "outputs": []
    },
    {
      "cell_type": "code",
      "metadata": {
        "id": "LNHNrWcduadE",
        "colab_type": "code",
        "colab": {}
      },
      "source": [
        "def calc_ewm(s, windows=[10, 50, 100, 500, 1000]):\n",
        "    '''\n",
        "    Calculates exponential weighted functions\n",
        "    '''\n",
        "    ewm = pd.DataFrame()\n",
        "    for w in windows:\n",
        "        ewm['ewm_mean_' + str(w)] = s.ewm(span=w, min_periods=1).mean()\n",
        "        ewm['ewm_std_' + str(w)] = s.ewm(span=w, min_periods=1).std()\n",
        "        \n",
        "    # add zeros when na values (std)\n",
        "    ewm = ewm.fillna(value=0)\n",
        "        \n",
        "    return ewm"
      ],
      "execution_count": 0,
      "outputs": []
    },
    {
      "cell_type": "code",
      "metadata": {
        "id": "0DT5VHuuucEc",
        "colab_type": "code",
        "colab": {}
      },
      "source": [
        "def add_features(s):\n",
        "    '''\n",
        "    All calculations together\n",
        "    '''\n",
        "    \n",
        "    gradients = calc_gradients(s)\n",
        "    low_pass = calc_low_pass(s)\n",
        "    high_pass = calc_high_pass(s)\n",
        "    roll_stats = calc_roll_stats(s)\n",
        "    ewm = calc_ewm(s)\n",
        "    \n",
        "    return pd.concat([s, gradients, low_pass, high_pass, roll_stats, ewm], axis=1)\n",
        "\n",
        "def divide_and_add_features(s, signal_size=500000):\n",
        "    '''\n",
        "    Divide the signal in bags of \"signal_size\".\n",
        "    Normalize the data dividing it by 15.0\n",
        "    '''\n",
        "    # normalize\n",
        "    s = s/15.0\n",
        "    \n",
        "    ls = []\n",
        "    for i in tqdm(range(int(s.shape[0]/signal_size))):\n",
        "        sig = s[i*signal_size:(i+1)*signal_size].copy().reset_index(drop=True)\n",
        "        sig_featured = add_features(sig)\n",
        "        ls.append(sig_featured)\n",
        "    \n",
        "    return pd.concat(ls, axis=0)\n"
      ],
      "execution_count": 0,
      "outputs": []
    },
    {
      "cell_type": "code",
      "metadata": {
        "id": "JZ2S8Rotu0xO",
        "colab_type": "code",
        "colab": {
          "base_uri": "https://localhost:8080/",
          "height": 261
        },
        "outputId": "df8e5686-8f7c-4fe4-9f5b-7e372eaef178"
      },
      "source": [
        "df = divide_and_add_features(train['signal'])\n",
        "df.head()"
      ],
      "execution_count": 17,
      "outputs": [
        {
          "output_type": "stream",
          "text": [
            "100%|██████████| 10/10 [01:36<00:00,  9.63s/it]\n"
          ],
          "name": "stderr"
        },
        {
          "output_type": "execute_result",
          "data": {
            "text/html": [
              "<div>\n",
              "<style scoped>\n",
              "    .dataframe tbody tr th:only-of-type {\n",
              "        vertical-align: middle;\n",
              "    }\n",
              "\n",
              "    .dataframe tbody tr th {\n",
              "        vertical-align: top;\n",
              "    }\n",
              "\n",
              "    .dataframe thead th {\n",
              "        text-align: right;\n",
              "    }\n",
              "</style>\n",
              "<table border=\"1\" class=\"dataframe\">\n",
              "  <thead>\n",
              "    <tr style=\"text-align: right;\">\n",
              "      <th></th>\n",
              "      <th>signal</th>\n",
              "      <th>grad_1</th>\n",
              "      <th>grad_2</th>\n",
              "      <th>grad_3</th>\n",
              "      <th>grad_4</th>\n",
              "      <th>lowpass_lf_0.0100</th>\n",
              "      <th>lowpass_ff_0.0100</th>\n",
              "      <th>lowpass_lf_0.0154</th>\n",
              "      <th>lowpass_ff_0.0154</th>\n",
              "      <th>lowpass_lf_0.0239</th>\n",
              "      <th>lowpass_ff_0.0239</th>\n",
              "      <th>lowpass_lf_0.0369</th>\n",
              "      <th>lowpass_ff_0.0369</th>\n",
              "      <th>lowpass_lf_0.0570</th>\n",
              "      <th>lowpass_ff_0.0570</th>\n",
              "      <th>lowpass_lf_0.0880</th>\n",
              "      <th>lowpass_ff_0.0880</th>\n",
              "      <th>lowpass_lf_0.1359</th>\n",
              "      <th>lowpass_ff_0.1359</th>\n",
              "      <th>lowpass_lf_0.2100</th>\n",
              "      <th>lowpass_ff_0.2100</th>\n",
              "      <th>lowpass_lf_0.3244</th>\n",
              "      <th>lowpass_ff_0.3244</th>\n",
              "      <th>lowpass_lf_0.5012</th>\n",
              "      <th>lowpass_ff_0.5012</th>\n",
              "      <th>highpass_lf_0.0100</th>\n",
              "      <th>highpass_ff_0.0100</th>\n",
              "      <th>highpass_lf_0.0163</th>\n",
              "      <th>highpass_ff_0.0163</th>\n",
              "      <th>highpass_lf_0.0264</th>\n",
              "      <th>highpass_ff_0.0264</th>\n",
              "      <th>highpass_lf_0.0430</th>\n",
              "      <th>highpass_ff_0.0430</th>\n",
              "      <th>highpass_lf_0.0699</th>\n",
              "      <th>highpass_ff_0.0699</th>\n",
              "      <th>highpass_lf_0.1136</th>\n",
              "      <th>highpass_ff_0.1136</th>\n",
              "      <th>highpass_lf_0.1848</th>\n",
              "      <th>highpass_ff_0.1848</th>\n",
              "      <th>highpass_lf_0.3005</th>\n",
              "      <th>...</th>\n",
              "      <th>roll_mean_100</th>\n",
              "      <th>roll_std_100</th>\n",
              "      <th>roll_min_100</th>\n",
              "      <th>roll_max_100</th>\n",
              "      <th>roll_range_100</th>\n",
              "      <th>roll_q10_100</th>\n",
              "      <th>roll_q25_100</th>\n",
              "      <th>roll_q50_100</th>\n",
              "      <th>roll_q75_100</th>\n",
              "      <th>roll_q90_100</th>\n",
              "      <th>roll_mean_500</th>\n",
              "      <th>roll_std_500</th>\n",
              "      <th>roll_min_500</th>\n",
              "      <th>roll_max_500</th>\n",
              "      <th>roll_range_500</th>\n",
              "      <th>roll_q10_500</th>\n",
              "      <th>roll_q25_500</th>\n",
              "      <th>roll_q50_500</th>\n",
              "      <th>roll_q75_500</th>\n",
              "      <th>roll_q90_500</th>\n",
              "      <th>roll_mean_1000</th>\n",
              "      <th>roll_std_1000</th>\n",
              "      <th>roll_min_1000</th>\n",
              "      <th>roll_max_1000</th>\n",
              "      <th>roll_range_1000</th>\n",
              "      <th>roll_q10_1000</th>\n",
              "      <th>roll_q25_1000</th>\n",
              "      <th>roll_q50_1000</th>\n",
              "      <th>roll_q75_1000</th>\n",
              "      <th>roll_q90_1000</th>\n",
              "      <th>ewm_mean_10</th>\n",
              "      <th>ewm_std_10</th>\n",
              "      <th>ewm_mean_50</th>\n",
              "      <th>ewm_std_50</th>\n",
              "      <th>ewm_mean_100</th>\n",
              "      <th>ewm_std_100</th>\n",
              "      <th>ewm_mean_500</th>\n",
              "      <th>ewm_std_500</th>\n",
              "      <th>ewm_mean_1000</th>\n",
              "      <th>ewm_std_1000</th>\n",
              "    </tr>\n",
              "  </thead>\n",
              "  <tbody>\n",
              "    <tr>\n",
              "      <th>0</th>\n",
              "      <td>-0.183960</td>\n",
              "      <td>-0.006348</td>\n",
              "      <td>0.018066</td>\n",
              "      <td>-0.019653</td>\n",
              "      <td>0.001480</td>\n",
              "      <td>-0.183960</td>\n",
              "      <td>-0.186072</td>\n",
              "      <td>-0.183960</td>\n",
              "      <td>-0.186328</td>\n",
              "      <td>-0.183960</td>\n",
              "      <td>-0.186087</td>\n",
              "      <td>-0.183960</td>\n",
              "      <td>-0.185444</td>\n",
              "      <td>-0.183960</td>\n",
              "      <td>-0.184721</td>\n",
              "      <td>-0.183960</td>\n",
              "      <td>-0.184204</td>\n",
              "      <td>-0.183960</td>\n",
              "      <td>-0.183982</td>\n",
              "      <td>-0.183960</td>\n",
              "      <td>-0.183950</td>\n",
              "      <td>-0.183960</td>\n",
              "      <td>-0.183959</td>\n",
              "      <td>-0.183960</td>\n",
              "      <td>-0.183960</td>\n",
              "      <td>1.665335e-16</td>\n",
              "      <td>0.002112</td>\n",
              "      <td>-1.110223e-16</td>\n",
              "      <td>0.002366</td>\n",
              "      <td>8.326673e-17</td>\n",
              "      <td>0.002002</td>\n",
              "      <td>2.775558e-17</td>\n",
              "      <td>0.001220</td>\n",
              "      <td>0.000000</td>\n",
              "      <td>0.000481</td>\n",
              "      <td>0.000000</td>\n",
              "      <td>0.000081</td>\n",
              "      <td>0.000000</td>\n",
              "      <td>-0.000010</td>\n",
              "      <td>0.000000</td>\n",
              "      <td>...</td>\n",
              "      <td>-0.183960</td>\n",
              "      <td>0.000000</td>\n",
              "      <td>-0.183960</td>\n",
              "      <td>-0.183960</td>\n",
              "      <td>0.000000</td>\n",
              "      <td>-0.183960</td>\n",
              "      <td>-0.183960</td>\n",
              "      <td>-0.183960</td>\n",
              "      <td>-0.183960</td>\n",
              "      <td>-0.183960</td>\n",
              "      <td>-0.183960</td>\n",
              "      <td>0.000000</td>\n",
              "      <td>-0.183960</td>\n",
              "      <td>-0.183960</td>\n",
              "      <td>0.000000</td>\n",
              "      <td>-0.183960</td>\n",
              "      <td>-0.183960</td>\n",
              "      <td>-0.183960</td>\n",
              "      <td>-0.183960</td>\n",
              "      <td>-0.183960</td>\n",
              "      <td>-0.183960</td>\n",
              "      <td>0.000000</td>\n",
              "      <td>-0.183960</td>\n",
              "      <td>-0.183960</td>\n",
              "      <td>0.000000</td>\n",
              "      <td>-0.183960</td>\n",
              "      <td>-0.183960</td>\n",
              "      <td>-0.183960</td>\n",
              "      <td>-0.183960</td>\n",
              "      <td>-0.183960</td>\n",
              "      <td>-0.183960</td>\n",
              "      <td>0.000000</td>\n",
              "      <td>-0.183960</td>\n",
              "      <td>0.000000</td>\n",
              "      <td>-0.183960</td>\n",
              "      <td>0.000000</td>\n",
              "      <td>-0.183960</td>\n",
              "      <td>0.000000</td>\n",
              "      <td>-0.183960</td>\n",
              "      <td>0.000000</td>\n",
              "    </tr>\n",
              "    <tr>\n",
              "      <th>1</th>\n",
              "      <td>-0.190308</td>\n",
              "      <td>0.011719</td>\n",
              "      <td>-0.001587</td>\n",
              "      <td>-0.018173</td>\n",
              "      <td>0.013489</td>\n",
              "      <td>-0.184058</td>\n",
              "      <td>-0.186054</td>\n",
              "      <td>-0.184110</td>\n",
              "      <td>-0.186344</td>\n",
              "      <td>-0.184189</td>\n",
              "      <td>-0.186156</td>\n",
              "      <td>-0.184308</td>\n",
              "      <td>-0.185589</td>\n",
              "      <td>-0.184483</td>\n",
              "      <td>-0.184984</td>\n",
              "      <td>-0.184735</td>\n",
              "      <td>-0.184635</td>\n",
              "      <td>-0.185091</td>\n",
              "      <td>-0.184506</td>\n",
              "      <td>-0.185579</td>\n",
              "      <td>-0.184091</td>\n",
              "      <td>-0.186236</td>\n",
              "      <td>-0.182781</td>\n",
              "      <td>-0.187140</td>\n",
              "      <td>-0.181272</td>\n",
              "      <td>-6.249482e-03</td>\n",
              "      <td>-0.004253</td>\n",
              "      <td>-6.189537e-03</td>\n",
              "      <td>-0.003959</td>\n",
              "      <td>-6.094421e-03</td>\n",
              "      <td>-0.004261</td>\n",
              "      <td>-5.945580e-03</td>\n",
              "      <td>-0.004947</td>\n",
              "      <td>-0.005717</td>\n",
              "      <td>-0.005528</td>\n",
              "      <td>-0.005377</td>\n",
              "      <td>-0.005753</td>\n",
              "      <td>-0.004888</td>\n",
              "      <td>-0.006022</td>\n",
              "      <td>-0.004203</td>\n",
              "      <td>...</td>\n",
              "      <td>-0.187134</td>\n",
              "      <td>0.004488</td>\n",
              "      <td>-0.190308</td>\n",
              "      <td>-0.183960</td>\n",
              "      <td>0.006348</td>\n",
              "      <td>-0.189673</td>\n",
              "      <td>-0.188721</td>\n",
              "      <td>-0.187134</td>\n",
              "      <td>-0.185547</td>\n",
              "      <td>-0.184595</td>\n",
              "      <td>-0.187134</td>\n",
              "      <td>0.004488</td>\n",
              "      <td>-0.190308</td>\n",
              "      <td>-0.183960</td>\n",
              "      <td>0.006348</td>\n",
              "      <td>-0.189673</td>\n",
              "      <td>-0.188721</td>\n",
              "      <td>-0.187134</td>\n",
              "      <td>-0.185547</td>\n",
              "      <td>-0.184595</td>\n",
              "      <td>-0.187134</td>\n",
              "      <td>0.004488</td>\n",
              "      <td>-0.190308</td>\n",
              "      <td>-0.183960</td>\n",
              "      <td>0.006348</td>\n",
              "      <td>-0.189673</td>\n",
              "      <td>-0.188721</td>\n",
              "      <td>-0.187134</td>\n",
              "      <td>-0.185547</td>\n",
              "      <td>-0.184595</td>\n",
              "      <td>-0.187451</td>\n",
              "      <td>0.004488</td>\n",
              "      <td>-0.187197</td>\n",
              "      <td>0.004488</td>\n",
              "      <td>-0.187166</td>\n",
              "      <td>0.004488</td>\n",
              "      <td>-0.187140</td>\n",
              "      <td>0.004488</td>\n",
              "      <td>-0.187137</td>\n",
              "      <td>0.004488</td>\n",
              "    </tr>\n",
              "    <tr>\n",
              "      <th>2</th>\n",
              "      <td>-0.160522</td>\n",
              "      <td>-0.009521</td>\n",
              "      <td>-0.018280</td>\n",
              "      <td>0.007324</td>\n",
              "      <td>0.018646</td>\n",
              "      <td>-0.183791</td>\n",
              "      <td>-0.186042</td>\n",
              "      <td>-0.183698</td>\n",
              "      <td>-0.186373</td>\n",
              "      <td>-0.183555</td>\n",
              "      <td>-0.186253</td>\n",
              "      <td>-0.183333</td>\n",
              "      <td>-0.185793</td>\n",
              "      <td>-0.182990</td>\n",
              "      <td>-0.185367</td>\n",
              "      <td>-0.182459</td>\n",
              "      <td>-0.185331</td>\n",
              "      <td>-0.181643</td>\n",
              "      <td>-0.185667</td>\n",
              "      <td>-0.180394</td>\n",
              "      <td>-0.185728</td>\n",
              "      <td>-0.178477</td>\n",
              "      <td>-0.184340</td>\n",
              "      <td>-0.175393</td>\n",
              "      <td>-0.180142</td>\n",
              "      <td>2.326832e-02</td>\n",
              "      <td>0.025520</td>\n",
              "      <td>2.316204e-02</td>\n",
              "      <td>0.025861</td>\n",
              "      <td>2.298874e-02</td>\n",
              "      <td>0.025642</td>\n",
              "      <td>2.270613e-02</td>\n",
              "      <td>0.025094</td>\n",
              "      <td>0.022246</td>\n",
              "      <td>0.024768</td>\n",
              "      <td>0.021499</td>\n",
              "      <td>0.024987</td>\n",
              "      <td>0.020295</td>\n",
              "      <td>0.025280</td>\n",
              "      <td>0.018358</td>\n",
              "      <td>...</td>\n",
              "      <td>-0.178263</td>\n",
              "      <td>0.015688</td>\n",
              "      <td>-0.190308</td>\n",
              "      <td>-0.160522</td>\n",
              "      <td>0.029785</td>\n",
              "      <td>-0.189038</td>\n",
              "      <td>-0.187134</td>\n",
              "      <td>-0.183960</td>\n",
              "      <td>-0.172241</td>\n",
              "      <td>-0.165210</td>\n",
              "      <td>-0.178263</td>\n",
              "      <td>0.015688</td>\n",
              "      <td>-0.190308</td>\n",
              "      <td>-0.160522</td>\n",
              "      <td>0.029785</td>\n",
              "      <td>-0.189038</td>\n",
              "      <td>-0.187134</td>\n",
              "      <td>-0.183960</td>\n",
              "      <td>-0.172241</td>\n",
              "      <td>-0.165210</td>\n",
              "      <td>-0.178263</td>\n",
              "      <td>0.015688</td>\n",
              "      <td>-0.190308</td>\n",
              "      <td>-0.160522</td>\n",
              "      <td>0.029785</td>\n",
              "      <td>-0.189038</td>\n",
              "      <td>-0.187134</td>\n",
              "      <td>-0.183960</td>\n",
              "      <td>-0.172241</td>\n",
              "      <td>-0.165210</td>\n",
              "      <td>-0.176626</td>\n",
              "      <td>0.016555</td>\n",
              "      <td>-0.177948</td>\n",
              "      <td>0.015867</td>\n",
              "      <td>-0.178106</td>\n",
              "      <td>0.015778</td>\n",
              "      <td>-0.178232</td>\n",
              "      <td>0.015706</td>\n",
              "      <td>-0.178248</td>\n",
              "      <td>0.015697</td>\n",
              "    </tr>\n",
              "    <tr>\n",
              "      <th>3</th>\n",
              "      <td>-0.209351</td>\n",
              "      <td>-0.024841</td>\n",
              "      <td>0.013062</td>\n",
              "      <td>0.019135</td>\n",
              "      <td>-0.008804</td>\n",
              "      <td>-0.183826</td>\n",
              "      <td>-0.186035</td>\n",
              "      <td>-0.183757</td>\n",
              "      <td>-0.186416</td>\n",
              "      <td>-0.183655</td>\n",
              "      <td>-0.186385</td>\n",
              "      <td>-0.183509</td>\n",
              "      <td>-0.186072</td>\n",
              "      <td>-0.183310</td>\n",
              "      <td>-0.185919</td>\n",
              "      <td>-0.183064</td>\n",
              "      <td>-0.186435</td>\n",
              "      <td>-0.182817</td>\n",
              "      <td>-0.187912</td>\n",
              "      <td>-0.182711</td>\n",
              "      <td>-0.190314</td>\n",
              "      <td>-0.183109</td>\n",
              "      <td>-0.193463</td>\n",
              "      <td>-0.184954</td>\n",
              "      <td>-0.197382</td>\n",
              "      <td>-2.552436e-02</td>\n",
              "      <td>-0.023315</td>\n",
              "      <td>-2.560371e-02</td>\n",
              "      <td>-0.022916</td>\n",
              "      <td>-2.572566e-02</td>\n",
              "      <td>-0.023027</td>\n",
              "      <td>-2.590563e-02</td>\n",
              "      <td>-0.023378</td>\n",
              "      <td>-0.026152</td>\n",
              "      <td>-0.023298</td>\n",
              "      <td>-0.026438</td>\n",
              "      <td>-0.022168</td>\n",
              "      <td>-0.026638</td>\n",
              "      <td>-0.019827</td>\n",
              "      <td>-0.026377</td>\n",
              "      <td>...</td>\n",
              "      <td>-0.186035</td>\n",
              "      <td>0.020142</td>\n",
              "      <td>-0.209351</td>\n",
              "      <td>-0.160522</td>\n",
              "      <td>0.048828</td>\n",
              "      <td>-0.203638</td>\n",
              "      <td>-0.195068</td>\n",
              "      <td>-0.187134</td>\n",
              "      <td>-0.178101</td>\n",
              "      <td>-0.167554</td>\n",
              "      <td>-0.186035</td>\n",
              "      <td>0.020142</td>\n",
              "      <td>-0.209351</td>\n",
              "      <td>-0.160522</td>\n",
              "      <td>0.048828</td>\n",
              "      <td>-0.203638</td>\n",
              "      <td>-0.195068</td>\n",
              "      <td>-0.187134</td>\n",
              "      <td>-0.178101</td>\n",
              "      <td>-0.167554</td>\n",
              "      <td>-0.186035</td>\n",
              "      <td>0.020142</td>\n",
              "      <td>-0.209351</td>\n",
              "      <td>-0.160522</td>\n",
              "      <td>0.048828</td>\n",
              "      <td>-0.203638</td>\n",
              "      <td>-0.195068</td>\n",
              "      <td>-0.187134</td>\n",
              "      <td>-0.178101</td>\n",
              "      <td>-0.167554</td>\n",
              "      <td>-0.187407</td>\n",
              "      <td>0.022014</td>\n",
              "      <td>-0.186276</td>\n",
              "      <td>0.020515</td>\n",
              "      <td>-0.186153</td>\n",
              "      <td>0.020328</td>\n",
              "      <td>-0.186058</td>\n",
              "      <td>0.020179</td>\n",
              "      <td>-0.186047</td>\n",
              "      <td>0.020160</td>\n",
              "    </tr>\n",
              "    <tr>\n",
              "      <th>4</th>\n",
              "      <td>-0.210205</td>\n",
              "      <td>0.016602</td>\n",
              "      <td>0.019989</td>\n",
              "      <td>-0.010284</td>\n",
              "      <td>-0.016327</td>\n",
              "      <td>-0.184629</td>\n",
              "      <td>-0.186017</td>\n",
              "      <td>-0.184990</td>\n",
              "      <td>-0.186433</td>\n",
              "      <td>-0.185544</td>\n",
              "      <td>-0.186454</td>\n",
              "      <td>-0.186388</td>\n",
              "      <td>-0.186199</td>\n",
              "      <td>-0.187668</td>\n",
              "      <td>-0.186100</td>\n",
              "      <td>-0.189588</td>\n",
              "      <td>-0.186676</td>\n",
              "      <td>-0.192425</td>\n",
              "      <td>-0.188293</td>\n",
              "      <td>-0.196518</td>\n",
              "      <td>-0.191160</td>\n",
              "      <td>-0.202230</td>\n",
              "      <td>-0.195512</td>\n",
              "      <td>-0.209824</td>\n",
              "      <td>-0.201514</td>\n",
              "      <td>-2.557610e-02</td>\n",
              "      <td>-0.024188</td>\n",
              "      <td>-2.516135e-02</td>\n",
              "      <td>-0.023747</td>\n",
              "      <td>-2.449345e-02</td>\n",
              "      <td>-0.023798</td>\n",
              "      <td>-2.342414e-02</td>\n",
              "      <td>-0.024086</td>\n",
              "      <td>-0.021728</td>\n",
              "      <td>-0.023946</td>\n",
              "      <td>-0.019080</td>\n",
              "      <td>-0.022719</td>\n",
              "      <td>-0.015043</td>\n",
              "      <td>-0.020031</td>\n",
              "      <td>-0.009115</td>\n",
              "      <td>...</td>\n",
              "      <td>-0.190869</td>\n",
              "      <td>0.020521</td>\n",
              "      <td>-0.210205</td>\n",
              "      <td>-0.160522</td>\n",
              "      <td>0.049683</td>\n",
              "      <td>-0.209863</td>\n",
              "      <td>-0.209351</td>\n",
              "      <td>-0.190308</td>\n",
              "      <td>-0.183960</td>\n",
              "      <td>-0.169897</td>\n",
              "      <td>-0.190869</td>\n",
              "      <td>0.020521</td>\n",
              "      <td>-0.210205</td>\n",
              "      <td>-0.160522</td>\n",
              "      <td>0.049683</td>\n",
              "      <td>-0.209863</td>\n",
              "      <td>-0.209351</td>\n",
              "      <td>-0.190308</td>\n",
              "      <td>-0.183960</td>\n",
              "      <td>-0.169897</td>\n",
              "      <td>-0.190869</td>\n",
              "      <td>0.020521</td>\n",
              "      <td>-0.210205</td>\n",
              "      <td>-0.160522</td>\n",
              "      <td>0.049683</td>\n",
              "      <td>-0.209863</td>\n",
              "      <td>-0.209351</td>\n",
              "      <td>-0.190308</td>\n",
              "      <td>-0.183960</td>\n",
              "      <td>-0.169897</td>\n",
              "      <td>-0.193952</td>\n",
              "      <td>0.021462</td>\n",
              "      <td>-0.191452</td>\n",
              "      <td>0.020753</td>\n",
              "      <td>-0.191158</td>\n",
              "      <td>0.020639</td>\n",
              "      <td>-0.190926</td>\n",
              "      <td>0.020545</td>\n",
              "      <td>-0.190898</td>\n",
              "      <td>0.020533</td>\n",
              "    </tr>\n",
              "  </tbody>\n",
              "</table>\n",
              "<p>5 rows × 105 columns</p>\n",
              "</div>"
            ],
            "text/plain": [
              "     signal    grad_1    grad_2  ...  ewm_std_500  ewm_mean_1000  ewm_std_1000\n",
              "0 -0.183960 -0.006348  0.018066  ...     0.000000      -0.183960      0.000000\n",
              "1 -0.190308  0.011719 -0.001587  ...     0.004488      -0.187137      0.004488\n",
              "2 -0.160522 -0.009521 -0.018280  ...     0.015706      -0.178248      0.015697\n",
              "3 -0.209351 -0.024841  0.013062  ...     0.020179      -0.186047      0.020160\n",
              "4 -0.210205  0.016602  0.019989  ...     0.020545      -0.190898      0.020533\n",
              "\n",
              "[5 rows x 105 columns]"
            ]
          },
          "metadata": {
            "tags": []
          },
          "execution_count": 17
        }
      ]
    },
    {
      "cell_type": "code",
      "metadata": {
        "id": "_3xwoxFbvDnZ",
        "colab_type": "code",
        "colab": {
          "base_uri": "https://localhost:8080/",
          "height": 283
        },
        "outputId": "f673ae5c-5d76-49e7-95a6-27dc11526f6e"
      },
      "source": [
        "df[['signal',\n",
        "    'lowpass_lf_0.0100',\n",
        "    'lowpass_lf_0.0239',\n",
        "    'lowpass_lf_0.5012']].iloc[:200].plot()"
      ],
      "execution_count": 15,
      "outputs": [
        {
          "output_type": "execute_result",
          "data": {
            "text/plain": [
              "<matplotlib.axes._subplots.AxesSubplot at 0x7fd4e347ddd8>"
            ]
          },
          "metadata": {
            "tags": []
          },
          "execution_count": 15
        },
        {
          "output_type": "display_data",
          "data": {
            "image/png": "[encoded data removed]",
            "text/plain": [
              "<Figure size 432x288 with 1 Axes>"
            ]
          },
          "metadata": {
            "tags": []
          }
        }
      ]
    },
    {
      "cell_type": "code",
      "metadata": {
        "id": "dV2YkM2xJpxM",
        "colab_type": "code",
        "colab": {
          "base_uri": "https://localhost:8080/",
          "height": 35
        },
        "outputId": "2bc01521-ab9b-487d-f7f2-ac29bd9bb56e"
      },
      "source": [
        "df = reduce_mem_usage(df)"
      ],
      "execution_count": 18,
      "outputs": [
        {
          "output_type": "stream",
          "text": [
            "Mem. usage decreased to 1039.51 Mb (73.3% reduction)\n"
          ],
          "name": "stdout"
        }
      ]
    },
    {
      "cell_type": "code",
      "metadata": {
        "id": "0kTiFJloOSOf",
        "colab_type": "code",
        "colab": {
          "base_uri": "https://localhost:8080/",
          "height": 88
        },
        "outputId": "0f956e78-b067-49ba-8c3b-33963ff10364"
      },
      "source": [
        "!ls"
      ],
      "execution_count": 19,
      "outputs": [
        {
          "output_type": "stream",
          "text": [
            "data-without-drift.zip\tsample_submission.csv.zip  train_clean.csv\n",
            "drive\t\t\ttest_clean.csv\t\t   train.csv\n",
            "sample_data\t\ttest.csv\t\t   train.csv.zip\n",
            "sample_submission.csv\ttest.csv.zip\n"
          ],
          "name": "stdout"
        }
      ]
    },
    {
      "cell_type": "code",
      "metadata": {
        "id": "6GXGRwiZNwcl",
        "colab_type": "code",
        "colab": {}
      },
      "source": [
        "df.to_pickle('/content/drive/My Drive/Colab Notebooks/Kaggle/Liverpool_Ion_Switching/pkl/df_crd_1.pkl')"
      ],
      "execution_count": 0,
      "outputs": []
    },
    {
      "cell_type": "code",
      "metadata": {
        "id": "TTVyPYDVPYsK",
        "colab_type": "code",
        "colab": {}
      },
      "source": [
        "del df"
      ],
      "execution_count": 0,
      "outputs": []
    },
    {
      "cell_type": "code",
      "metadata": {
        "id": "16cBIJdlJT9b",
        "colab_type": "code",
        "colab": {}
      },
      "source": [
        "# Get train and test data\n",
        "x_train, x_test, y_train, y_test = train_test_split(df.values, train['open_channels'].values, test_size=0.2)\n",
        "\n",
        "del train, df\n",
        "print('x_train.shape=', x_train.shape)\n",
        "print('x_test.shape=', x_test.shape)\n",
        "print('y_train.shape=', y_train.shape)\n",
        "print('y_test.shape=', y_test.shape)"
      ],
      "execution_count": 0,
      "outputs": []
    },
    {
      "cell_type": "code",
      "metadata": {
        "id": "lphb-9UZ_4Rp",
        "colab_type": "code",
        "colab": {
          "base_uri": "https://localhost:8080/",
          "height": 90
        },
        "outputId": "818ad916-c438-4f69-bcc9-1af45370cd27"
      },
      "source": [
        "from sklearn.utils import class_weight\n",
        "class_weights = class_weight.compute_class_weight('balanced',\n",
        "                                                 np.unique(y_train),\n",
        "                                                 y_train)\n",
        "\n",
        "print('class_weights=', class_weights)\n",
        "class_weight = {int(k): class_weights[k] for k in range(len(class_weights))}\n",
        "print('class_weight=', class_weight)"
      ],
      "execution_count": 26,
      "outputs": [
        {
          "output_type": "stream",
          "text": [
            "class_weights= [ 0.36656448  0.46104095  0.82116655  0.67917745  1.12673359  1.63505559\n",
            "  2.41732886  1.71592957  1.85386879  3.34040385 12.74530734]\n",
            "class_weight= {0: 0.36656448070826125, 1: 0.46104094516160005, 2: 0.821166553311467, 3: 0.6791774549760531, 4: 1.126733585252184, 5: 1.6350555918901242, 6: 2.4173288636922643, 7: 1.7159295748183903, 8: 1.8538687924362154, 9: 3.3404038548260484, 10: 12.7453073371548}\n"
          ],
          "name": "stdout"
        }
      ]
    },
    {
      "cell_type": "code",
      "metadata": {
        "id": "-92aINVz7c6c",
        "colab_type": "code",
        "colab": {
          "base_uri": "https://localhost:8080/",
          "height": 497
        },
        "outputId": "b3a1600e-c475-4e9f-cf55-25134796ea09"
      },
      "source": [
        "def create_mpl(shape):\n",
        "    '''\n",
        "    Returns a keras model\n",
        "    '''\n",
        "    \n",
        "    X_input = L.Input(shape)\n",
        "    \n",
        "    X = L.Dense(150, activation='relu')(X_input)\n",
        "    X = L.Dense(150, activation='relu')(X)\n",
        "    X = L.Dense(125, activation='relu')(X)\n",
        "    X = L.Dense(100, activation='relu')(X)\n",
        "    X = L.Dense(75, activation='relu')(X)\n",
        "    X = L.Dense(50, activation='relu')(X)\n",
        "    X = L.Dense(25, activation='relu')(X)\n",
        "    X = L.Dense(11, activation='softmax')(X)\n",
        "    \n",
        "    model = Model(inputs=X_input, outputs=X)\n",
        "    \n",
        "    return model\n",
        "\n",
        "\n",
        "mlp = create_mpl(x_train[0].shape)\n",
        "mlp.compile(optimizer='adam', loss='sparse_categorical_crossentropy', metrics=['sparse_categorical_accuracy'])\n",
        "print(mlp.summary())"
      ],
      "execution_count": 22,
      "outputs": [
        {
          "output_type": "stream",
          "text": [
            "Model: \"model\"\n",
            "_________________________________________________________________\n",
            "Layer (type)                 Output Shape              Param #   \n",
            "=================================================================\n",
            "input_1 (InputLayer)         [(None, 105)]             0         \n",
            "_________________________________________________________________\n",
            "dense (Dense)                (None, 150)               15900     \n",
            "_________________________________________________________________\n",
            "dense_1 (Dense)              (None, 150)               22650     \n",
            "_________________________________________________________________\n",
            "dense_2 (Dense)              (None, 125)               18875     \n",
            "_________________________________________________________________\n",
            "dense_3 (Dense)              (None, 100)               12600     \n",
            "_________________________________________________________________\n",
            "dense_4 (Dense)              (None, 75)                7575      \n",
            "_________________________________________________________________\n",
            "dense_5 (Dense)              (None, 50)                3800      \n",
            "_________________________________________________________________\n",
            "dense_6 (Dense)              (None, 25)                1275      \n",
            "_________________________________________________________________\n",
            "dense_7 (Dense)              (None, 11)                286       \n",
            "=================================================================\n",
            "Total params: 82,961\n",
            "Trainable params: 82,961\n",
            "Non-trainable params: 0\n",
            "_________________________________________________________________\n",
            "None\n"
          ],
          "name": "stdout"
        }
      ]
    },
    {
      "cell_type": "code",
      "metadata": {
        "id": "CBTFYhT87gL3",
        "colab_type": "code",
        "colab": {
          "base_uri": "https://localhost:8080/",
          "height": 1000
        },
        "outputId": "c7ae8f37-2aae-4207-d522-db5b595a4501"
      },
      "source": [
        "# fit the model\n",
        "mlp.fit(x=x_train, y=y_train, epochs=30, batch_size=1024, class_weight=class_weight)"
      ],
      "execution_count": 27,
      "outputs": [
        {
          "output_type": "stream",
          "text": [
            "Epoch 1/30\n",
            "3907/3907 [==============================] - 73s 19ms/step - loss: 0.1400 - sparse_categorical_accuracy: 0.2726\n",
            "Epoch 2/30\n",
            "3907/3907 [==============================] - 73s 19ms/step - loss: 0.1095 - sparse_categorical_accuracy: 0.2817\n",
            "Epoch 3/30\n",
            "3907/3907 [==============================] - 74s 19ms/step - loss: 0.1059 - sparse_categorical_accuracy: 0.2827\n",
            "Epoch 4/30\n",
            "3907/3907 [==============================] - 73s 19ms/step - loss: 0.1046 - sparse_categorical_accuracy: 0.2830\n",
            "Epoch 5/30\n",
            "3907/3907 [==============================] - 73s 19ms/step - loss: 0.1031 - sparse_categorical_accuracy: 0.2834\n",
            "Epoch 6/30\n",
            "3907/3907 [==============================] - 74s 19ms/step - loss: 0.1021 - sparse_categorical_accuracy: 0.2837\n",
            "Epoch 7/30\n",
            "3907/3907 [==============================] - 73s 19ms/step - loss: 0.1010 - sparse_categorical_accuracy: 0.2839\n",
            "Epoch 8/30\n",
            "3907/3907 [==============================] - 72s 18ms/step - loss: 0.1010 - sparse_categorical_accuracy: 0.2839\n",
            "Epoch 9/30\n",
            "3907/3907 [==============================] - 72s 19ms/step - loss: 0.1003 - sparse_categorical_accuracy: 0.2841\n",
            "Epoch 10/30\n",
            "3907/3907 [==============================] - 72s 18ms/step - loss: 0.1002 - sparse_categorical_accuracy: 0.2840\n",
            "Epoch 11/30\n",
            "3907/3907 [==============================] - 76s 19ms/step - loss: 0.0999 - sparse_categorical_accuracy: 0.2842\n",
            "Epoch 12/30\n",
            "3907/3907 [==============================] - 74s 19ms/step - loss: 0.0995 - sparse_categorical_accuracy: 0.2843\n",
            "Epoch 13/30\n",
            "3907/3907 [==============================] - 74s 19ms/step - loss: 0.0992 - sparse_categorical_accuracy: 0.2843\n",
            "Epoch 14/30\n",
            "3907/3907 [==============================] - 74s 19ms/step - loss: 0.0991 - sparse_categorical_accuracy: 0.2843\n",
            "Epoch 15/30\n",
            "3907/3907 [==============================] - 74s 19ms/step - loss: 0.0990 - sparse_categorical_accuracy: 0.2844\n",
            "Epoch 16/30\n",
            "3907/3907 [==============================] - 74s 19ms/step - loss: 0.0989 - sparse_categorical_accuracy: 0.2844\n",
            "Epoch 17/30\n",
            "3907/3907 [==============================] - 74s 19ms/step - loss: 0.0987 - sparse_categorical_accuracy: 0.2845\n",
            "Epoch 18/30\n",
            "3907/3907 [==============================] - 74s 19ms/step - loss: 0.0985 - sparse_categorical_accuracy: 0.2846\n",
            "Epoch 19/30\n",
            "3907/3907 [==============================] - 74s 19ms/step - loss: 0.0984 - sparse_categorical_accuracy: 0.2844\n",
            "Epoch 20/30\n",
            "3907/3907 [==============================] - 74s 19ms/step - loss: 0.0983 - sparse_categorical_accuracy: 0.2846\n",
            "Epoch 21/30\n",
            "3907/3907 [==============================] - 75s 19ms/step - loss: 0.0983 - sparse_categorical_accuracy: 0.2845\n",
            "Epoch 22/30\n",
            "3907/3907 [==============================] - 73s 19ms/step - loss: 0.0981 - sparse_categorical_accuracy: 0.2846\n",
            "Epoch 23/30\n",
            "3907/3907 [==============================] - 74s 19ms/step - loss: 0.0981 - sparse_categorical_accuracy: 0.2845\n",
            "Epoch 24/30\n",
            "3907/3907 [==============================] - 74s 19ms/step - loss: 0.0980 - sparse_categorical_accuracy: 0.2846\n",
            "Epoch 25/30\n",
            "3907/3907 [==============================] - 75s 19ms/step - loss: 0.0979 - sparse_categorical_accuracy: 0.2846\n",
            "Epoch 26/30\n",
            "3907/3907 [==============================] - 74s 19ms/step - loss: 0.0978 - sparse_categorical_accuracy: 0.2846\n",
            "Epoch 27/30\n",
            "3907/3907 [==============================] - 74s 19ms/step - loss: 0.0978 - sparse_categorical_accuracy: 0.2847\n",
            "Epoch 28/30\n",
            "3907/3907 [==============================] - 74s 19ms/step - loss: 0.0978 - sparse_categorical_accuracy: 0.2846\n",
            "Epoch 29/30\n",
            "3907/3907 [==============================] - 74s 19ms/step - loss: 0.0976 - sparse_categorical_accuracy: 0.2847\n",
            "Epoch 30/30\n",
            "3907/3907 [==============================] - 73s 19ms/step - loss: 0.0977 - sparse_categorical_accuracy: 0.2847\n"
          ],
          "name": "stdout"
        },
        {
          "output_type": "execute_result",
          "data": {
            "text/plain": [
              "<tensorflow.python.keras.callbacks.History at 0x7fa0f7866cc0>"
            ]
          },
          "metadata": {
            "tags": []
          },
          "execution_count": 27
        }
      ]
    },
    {
      "cell_type": "code",
      "metadata": {
        "id": "gymOVDUR7iW2",
        "colab_type": "code",
        "colab": {
          "base_uri": "https://localhost:8080/",
          "height": 559
        },
        "outputId": "b9c48b0e-142d-4357-86d2-bd119a6a8b5c"
      },
      "source": [
        "# plot history\n",
        "plt.figure(1)\n",
        "plt.plot(mlp.history.history['loss'], 'b', label='loss')\n",
        "plt.xlabel('epochs')\n",
        "plt.legend()\n",
        "plt.figure(2)\n",
        "plt.plot(mlp.history.history['sparse_categorical_accuracy'], 'g', label='sparse_categorical_accuracy')\n",
        "plt.xlabel('epochs')\n",
        "plt.legend()"
      ],
      "execution_count": 28,
      "outputs": [
        {
          "output_type": "execute_result",
          "data": {
            "text/plain": [
              "<matplotlib.legend.Legend at 0x7fa0f49ae208>"
            ]
          },
          "metadata": {
            "tags": []
          },
          "execution_count": 28
        },
        {
          "output_type": "display_data",
          "data": {
            "image/png": "[encoded data removed]",
            "text/plain": [
              "<Figure size 432x288 with 1 Axes>"
            ]
          },
          "metadata": {
            "tags": []
          }
        },
        {
          "output_type": "display_data",
          "data": {
            "image/png": "[encoded data removed]",
            "text/plain": [
              "<Figure size 432x288 with 1 Axes>"
            ]
          },
          "metadata": {
            "tags": []
          }
        }
      ]
    },
    {
      "cell_type": "code",
      "metadata": {
        "id": "76NimWINh0xg",
        "colab_type": "code",
        "colab": {}
      },
      "source": [
        "mlp_pred = mlp.predict(x_test)\n",
        "print('mlp_pred.shape=', mlp_pred.shape)"
      ],
      "execution_count": 0,
      "outputs": []
    },
    {
      "cell_type": "code",
      "metadata": {
        "id": "hjvOoLTrh8Pp",
        "colab_type": "code",
        "colab": {}
      },
      "source": [
        ""
      ],
      "execution_count": 0,
      "outputs": []
    }
  ]
}